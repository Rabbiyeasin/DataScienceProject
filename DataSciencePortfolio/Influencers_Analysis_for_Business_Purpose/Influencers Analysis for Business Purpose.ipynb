{
 "cells": [
  {
   "cell_type": "markdown",
   "id": "09a2225a",
   "metadata": {},
   "source": [
    "Influencers are categorized by the number of followers they have on social media. They include celebrities with large followings to niche content creators with a loyal following on social-media platforms such as YouTube, Instagram, Facebook, and Twitter.Their followers range in number from hundreds of millions to 1,000. Influencers may be categorized in tiers (mega-, macro-, micro-, and nano-influencers), based on their number of followers.\n",
    "\n",
    "Businesses pursue people who aim to lessen their consumption of advertisements, and are willing to pay their influencers more. Targeting influencers is seen as increasing marketing's reach, counteracting a growing tendency by prospective customers to ignore marketing.\n",
    "\n",
    "Marketing researchers Kapitan and Silvera find that influencer selection extends into product personality. This product and benefit matching is key. For a shampoo, it should use an influencer with good hair. Likewise, a flashy product may use bold colors to convey its brand. If an influencer is not flashy, they will clash with the brand. Matching an influencer with the product's purpose and mood is important."
   ]
  },
  {
   "cell_type": "code",
   "execution_count": null,
   "id": "6c858717",
   "metadata": {},
   "outputs": [],
   "source": [
    "import numpy as np # linear algebra\n",
    "import pandas as pd # data processing, CSV file I/O (e.g. pd.read_csv)\n",
    "import matplotlib.pyplot as plt\n",
    "import seaborn as sns"
   ]
  },
  {
   "cell_type": "code",
   "execution_count": null,
   "id": "8bd1734f",
   "metadata": {},
   "outputs": [],
   "source": []
  },
  {
   "cell_type": "code",
   "execution_count": null,
   "id": "b0afcd14",
   "metadata": {},
   "outputs": [],
   "source": [
    "df_t.head(3)"
   ]
  },
  {
   "cell_type": "code",
   "execution_count": null,
   "id": "1964ecd7",
   "metadata": {},
   "outputs": [],
   "source": [
    "\n",
    "\n",
    "df_t.isnull().sum()\n",
    "\n"
   ]
  },
  {
   "cell_type": "code",
   "execution_count": null,
   "id": "868d6b0f",
   "metadata": {},
   "outputs": [],
   "source": [
    "\n",
    "\n",
    "df_t['Subscribers count'].str[-1].value_counts()\n",
    "\n"
   ]
  },
  {
   "cell_type": "code",
   "execution_count": null,
   "id": "50fb4658",
   "metadata": {},
   "outputs": [],
   "source": [
    "import re\n",
    "def convert(x):\n",
    "    return re.findall('\\d+\\.?\\d*',x)"
   ]
  },
  {
   "cell_type": "code",
   "execution_count": null,
   "id": "79b7cb42",
   "metadata": {},
   "outputs": [],
   "source": [
    "def change(df,list1):\n",
    "    for i in list1:\n",
    "        df['new'+i]=df[i].apply(convert)\n",
    "        df['new'+i]=df['new'+i].apply(lambda x: \"\".join(x))\n",
    "        df['new'+i]=pd.to_numeric(df['new'+i])\n",
    "        df['new'+i]=np.where(['M' in j for j in df[i]],df['new'+i]*1000000,\n",
    "                             np.where(['K' in j1 for j1 in df[i]],df['new'+i]*1000,df['new'+i]))\n",
    "    return df"
   ]
  },
  {
   "cell_type": "code",
   "execution_count": null,
   "id": "e7e7007b",
   "metadata": {},
   "outputs": [],
   "source": [
    "change(df_t,['Subscribers count'])"
   ]
  },
  {
   "cell_type": "markdown",
   "id": "4204243b",
   "metadata": {},
   "source": [
    "### TOP 10 most followed celebrity on Tiktok"
   ]
  },
  {
   "cell_type": "code",
   "execution_count": null,
   "id": "2253896a",
   "metadata": {},
   "outputs": [],
   "source": [
    "df_t.sort_values(by='newSubscribers count',ascending=False,ignore_index=True).iloc[0:10,[1,2]]"
   ]
  },
  {
   "cell_type": "code",
   "execution_count": null,
   "id": "d5c016a4",
   "metadata": {},
   "outputs": [],
   "source": [
    "df_i.head(2)"
   ]
  },
  {
   "cell_type": "code",
   "execution_count": null,
   "id": "d193bab9",
   "metadata": {},
   "outputs": [],
   "source": [
    "\n",
    "\n",
    "df_y.head(2)"
   ]
  },
  {
   "cell_type": "code",
   "execution_count": null,
   "id": "d97dad66",
   "metadata": {},
   "outputs": [],
   "source": [
    "\n",
    "\n",
    "df_i.rename({'category_1':'Category','Audience country(mostly)':'Audience Country'},axis=1,inplace=True)\n",
    "\n",
    "df_y.rename({'Subscribers':'Followers',},axis=1,inplace=True)\n",
    "\n"
   ]
  },
  {
   "cell_type": "code",
   "execution_count": null,
   "id": "cae673b9",
   "metadata": {},
   "outputs": [],
   "source": [
    "\n",
    "\n",
    "df_i.head(2)\n",
    "\n"
   ]
  },
  {
   "cell_type": "code",
   "execution_count": null,
   "id": "9bba092c",
   "metadata": {},
   "outputs": [],
   "source": [
    "df_i.isnull().sum()"
   ]
  },
  {
   "cell_type": "code",
   "execution_count": null,
   "id": "c3bc3291",
   "metadata": {},
   "outputs": [],
   "source": [
    "\n",
    "\n",
    "df_y.isnull().sum()\n",
    "\n"
   ]
  },
  {
   "cell_type": "code",
   "execution_count": null,
   "id": "10857cc1",
   "metadata": {},
   "outputs": [],
   "source": [
    "df_i.drop_duplicates(subset=['Influencer insta name'],inplace=True)"
   ]
  },
  {
   "cell_type": "code",
   "execution_count": null,
   "id": "d9f0b495",
   "metadata": {},
   "outputs": [],
   "source": [
    "df_i.shape"
   ]
  },
  {
   "cell_type": "code",
   "execution_count": null,
   "id": "3869a222",
   "metadata": {},
   "outputs": [],
   "source": [
    "\n",
    "\n",
    "li=['Followers','Engagement avg\\r\\n']\n",
    "\n"
   ]
  },
  {
   "cell_type": "code",
   "execution_count": null,
   "id": "9ec320ab",
   "metadata": {},
   "outputs": [],
   "source": [
    "\n",
    "\n",
    "change(df_i,li)\n",
    "\n"
   ]
  },
  {
   "cell_type": "markdown",
   "id": "4b5310af",
   "metadata": {},
   "source": [
    "Using ER in this Project\n",
    "Engagement rate : the Percentage of Followers who really engages with the content posted by Influencers\n",
    "Why ER is so Important?\n",
    "1-good ER means your content is making an impact on audience(they really like you)\n",
    "2- The higher the engagement ,the more likely it is that the content will be boosted in the newsfeed and attracting more eyes."
   ]
  },
  {
   "cell_type": "code",
   "execution_count": null,
   "id": "7d74db0a",
   "metadata": {},
   "outputs": [],
   "source": [
    "df_i['Engagement Rate']=np.round((df_i['newEngagement avg\\r\\n']/df_i['newFollowers'])*100,3)"
   ]
  },
  {
   "cell_type": "code",
   "execution_count": null,
   "id": "b515f72c",
   "metadata": {},
   "outputs": [],
   "source": [
    "print(df_i['Followers'].str[-1].unique())"
   ]
  },
  {
   "cell_type": "code",
   "execution_count": null,
   "id": "c6d3c453",
   "metadata": {},
   "outputs": [],
   "source": [
    "\n",
    "\n",
    "# for convenice \n",
    "df_i['newFollowers']=df_i['newFollowers']/1000000\n",
    "\n"
   ]
  },
  {
   "cell_type": "code",
   "execution_count": null,
   "id": "516b3a02",
   "metadata": {},
   "outputs": [],
   "source": [
    "\n",
    "\n",
    "df_i.drop(labels=['Engagement avg\\r\\n','newEngagement avg\\r\\n'],axis=1,inplace=True)\n",
    "\n"
   ]
  },
  {
   "cell_type": "code",
   "execution_count": null,
   "id": "7154f7c4",
   "metadata": {},
   "outputs": [],
   "source": [
    "df_i.head(5)"
   ]
  },
  {
   "cell_type": "markdown",
   "id": "dd150ed3",
   "metadata": {},
   "source": [
    "TOP 15 most followed celebrity on instagram"
   ]
  },
  {
   "cell_type": "code",
   "execution_count": null,
   "id": "90634fb7",
   "metadata": {},
   "outputs": [],
   "source": [
    "df_i.sort_values(by='newFollowers',ascending=False,ignore_index=True).iloc[0:15,[0,1,3,-1]]"
   ]
  },
  {
   "cell_type": "code",
   "execution_count": null,
   "id": "7d7e9885",
   "metadata": {},
   "outputs": [],
   "source": [
    "plt.title('Top 15 most followed celebrity on instagram')\n",
    "plt.xlabel('Followers in Million')\n",
    "sns.barplot(y='instagram name',x='newFollowers',data=df_i.sort_values(by='newFollowers',ascending=False).head(15))"
   ]
  },
  {
   "cell_type": "code",
   "execution_count": null,
   "id": "7ffafd56",
   "metadata": {},
   "outputs": [],
   "source": [
    "\n",
    "\n",
    "pallete=['red','green','yellow','salmon','cyan','blue','orange']\n",
    "\n"
   ]
  },
  {
   "cell_type": "code",
   "execution_count": null,
   "id": "2569d4c4",
   "metadata": {},
   "outputs": [],
   "source": [
    "def plot(df):\n",
    "    plt.figure(figsize=(8,6))\n",
    "    plt.xlabel('number of times category occured')\n",
    "    plt.ylabel('Category')\n",
    "    df['Category'].value_counts().sort_values(ascending=True).plot.barh(color=pallete)"
   ]
  },
  {
   "cell_type": "markdown",
   "id": "56f5df3f",
   "metadata": {},
   "source": [
    "TOP categories followed on instagram(POPULAR CATEGORIES ON INSTAGRAM)"
   ]
  },
  {
   "cell_type": "code",
   "execution_count": null,
   "id": "10a52499",
   "metadata": {},
   "outputs": [],
   "source": [
    "\n",
    "\n",
    "plot(df_i)\n",
    "    \n",
    "\n"
   ]
  },
  {
   "cell_type": "markdown",
   "id": "2f42ce66",
   "metadata": {},
   "source": [
    "TOP categories followed on YOUTUBE(POPULAR CATEGORIES ON YOUTUBE)"
   ]
  },
  {
   "cell_type": "code",
   "execution_count": null,
   "id": "3e400731",
   "metadata": {},
   "outputs": [],
   "source": [
    "df_y.drop_duplicates(subset=['channel name'],inplace=True)"
   ]
  },
  {
   "cell_type": "code",
   "execution_count": null,
   "id": "9383c899",
   "metadata": {},
   "outputs": [],
   "source": [
    "\n",
    "\n",
    "plot(df_y)\n",
    "\n"
   ]
  },
  {
   "cell_type": "markdown",
   "id": "3c9b412f",
   "metadata": {},
   "source": [
    "want to make ads"
   ]
  },
  {
   "cell_type": "code",
   "execution_count": null,
   "id": "e0c140bc",
   "metadata": {},
   "outputs": [],
   "source": [
    "def plot_c(df):\n",
    "    plt.figure(figsize=(10,8))\n",
    "    plt.xlabel('number of times category occured')\n",
    "    df['Audience Country'].value_counts().sort_values().plot.barh(color=pallete)"
   ]
  },
  {
   "cell_type": "markdown",
   "id": "9f6cda04",
   "metadata": {},
   "source": [
    "\n",
    "(TARGET COUNTRY FOR BUISNESS)Checking the demand for categories by Country wise"
   ]
  },
  {
   "cell_type": "code",
   "execution_count": null,
   "id": "c5c888a2",
   "metadata": {},
   "outputs": [],
   "source": [
    "def demand(data,category):\n",
    "    return data[data['Category']==category]['Audience Country'].value_counts().sort_values(ascending=True).plot.barh(color=pallete)"
   ]
  },
  {
   "cell_type": "code",
   "execution_count": null,
   "id": "a902e388",
   "metadata": {},
   "outputs": [],
   "source": [
    "demand(df_y,'Education')"
   ]
  },
  {
   "cell_type": "code",
   "execution_count": null,
   "id": "3dc8f5ab",
   "metadata": {},
   "outputs": [],
   "source": [
    "demand(df_i,'Lifestyle')"
   ]
  },
  {
   "cell_type": "markdown",
   "id": "a546bc54",
   "metadata": {},
   "source": [
    "TOP 15 most followed channels on youtube"
   ]
  },
  {
   "cell_type": "code",
   "execution_count": null,
   "id": "2b8ad596",
   "metadata": {},
   "outputs": [],
   "source": [
    "df_y.iloc[0:10,[1,2,3]]\n",
    "# youtube dataset is already sorted"
   ]
  },
  {
   "cell_type": "code",
   "execution_count": null,
   "id": "8e4345c4",
   "metadata": {},
   "outputs": [],
   "source": [
    "ly=['Followers','avg views', 'avg likes', 'avg comments']"
   ]
  },
  {
   "cell_type": "markdown",
   "id": "57e79959",
   "metadata": {},
   "source": [
    "\n",
    "if you want to go with mini followers for advertisement on instagram"
   ]
  },
  {
   "cell_type": "code",
   "execution_count": null,
   "id": "b6d35dd6",
   "metadata": {},
   "outputs": [],
   "source": [
    "df_i['newFollowers'].describe()"
   ]
  },
  {
   "cell_type": "code",
   "execution_count": null,
   "id": "e77086fe",
   "metadata": {},
   "outputs": [],
   "source": [
    "df_i['newFollowers'].quantile(0.94)"
   ]
  },
  {
   "cell_type": "markdown",
   "id": "a58cb668",
   "metadata": {},
   "source": [
    "\n",
    "I am taking 60M as a threshold means for instagram celebrity havning above 60M followers are considerd to be mega celebrity"
   ]
  },
  {
   "cell_type": "code",
   "execution_count": null,
   "id": "e6251e43",
   "metadata": {},
   "outputs": [],
   "source": [
    "\n",
    "\n",
    "df_i.head(2)\n",
    "\n"
   ]
  },
  {
   "cell_type": "markdown",
   "id": "97c7a6ea",
   "metadata": {},
   "source": [
    "want to make ads by mini influencers?"
   ]
  },
  {
   "cell_type": "code",
   "execution_count": null,
   "id": "220cc12c",
   "metadata": {},
   "outputs": [],
   "source": [
    "\n",
    "\n",
    "def for_mini_followers_instagram(coun,cat):\n",
    "    df1=df_i[df_i['Audience Country']==coun]\n",
    "    df1_mini=df1[df1['newFollowers']<60]\n",
    "    return df1_mini.sort_values(by='Engagement Rate',ascending=False).groupby('Category').get_group(cat).iloc[:,[0,3,-1]]\n",
    "    \n",
    "    \n",
    "\n"
   ]
  },
  {
   "cell_type": "code",
   "execution_count": null,
   "id": "6cbc50a2",
   "metadata": {},
   "outputs": [],
   "source": [
    "for_mini_followers_instagram('India','Music')"
   ]
  },
  {
   "cell_type": "markdown",
   "id": "adb9debc",
   "metadata": {},
   "source": [
    "want to make ads by mega influencers?"
   ]
  },
  {
   "cell_type": "code",
   "execution_count": null,
   "id": "f0e8aca8",
   "metadata": {},
   "outputs": [],
   "source": [
    "def for_mega_followers_instagram(coun,cat):\n",
    "    df1=df_i[df_i['Audience Country']==coun]\n",
    "    df1_mini=df1[df1['newFollowers']>60]\n",
    "    return df1_mini.sort_values(by='Engagement Rate',ascending=False).groupby('Category').get_group(cat).iloc[:,[0,3,-1]]"
   ]
  },
  {
   "cell_type": "code",
   "execution_count": null,
   "id": "19631e9b",
   "metadata": {},
   "outputs": [],
   "source": [
    "for_mega_followers_instagram('India','Music')"
   ]
  },
  {
   "cell_type": "code",
   "execution_count": null,
   "id": "d3327b89",
   "metadata": {},
   "outputs": [],
   "source": [
    "\n",
    "\n",
    "for_mini_followers_instagram('India','Beauty')\n",
    "\n"
   ]
  },
  {
   "cell_type": "code",
   "execution_count": null,
   "id": "c0efe04e",
   "metadata": {},
   "outputs": [],
   "source": [
    "\n",
    "\n",
    "for_mini_followers_instagram('India','Shows')\n",
    "\n"
   ]
  },
  {
   "cell_type": "code",
   "execution_count": null,
   "id": "2265bd17",
   "metadata": {},
   "outputs": [],
   "source": [
    " for_mini_followers_instagram('India','Sports with a ball')"
   ]
  },
  {
   "cell_type": "code",
   "execution_count": null,
   "id": "2022bff8",
   "metadata": {},
   "outputs": [],
   "source": [
    "for_mega_followers_instagram('India','Sports with a ball')"
   ]
  },
  {
   "cell_type": "code",
   "execution_count": null,
   "id": "c3666b86",
   "metadata": {},
   "outputs": [],
   "source": [
    "\n",
    "\n",
    "df_y.head(3)\n",
    "\n"
   ]
  },
  {
   "cell_type": "code",
   "execution_count": null,
   "id": "e52de65b",
   "metadata": {},
   "outputs": [],
   "source": []
  },
  {
   "cell_type": "code",
   "execution_count": null,
   "id": "2aa23274",
   "metadata": {},
   "outputs": [],
   "source": []
  }
 ],
 "metadata": {
  "kernelspec": {
   "display_name": "Python 3 (ipykernel)",
   "language": "python",
   "name": "python3"
  },
  "language_info": {
   "codemirror_mode": {
    "name": "ipython",
    "version": 3
   },
   "file_extension": ".py",
   "mimetype": "text/x-python",
   "name": "python",
   "nbconvert_exporter": "python",
   "pygments_lexer": "ipython3",
   "version": "3.11.5"
  }
 },
 "nbformat": 4,
 "nbformat_minor": 5
}
