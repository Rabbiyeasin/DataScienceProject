{
 "cells": [
  {
   "cell_type": "code",
   "execution_count": null,
   "id": "e95b7e62",
   "metadata": {},
   "outputs": [],
   "source": [
    "import numpy as np\n",
    "import pandas as pd\n",
    "import pylab as py\n",
    "import seaborn as sns\n",
    "import matplotlib.pyplot as plt\n",
    "\n",
    "data = pd.read_csv(r\"D:\\Projects and All\\gitupload\\upload-folders\\DataScienceProject2\\DataScienceProject\\DataSciencePortfolio\\Business_Analysis_of_Jakarta_food\\data-usaha-jasa-makanan-dan-minuman-jenis-usaha-restoran-di-dki-jakarta-tahun-2014.csv\")"
   ]
  },
  {
   "cell_type": "code",
   "execution_count": null,
   "id": "ead5b8c2",
   "metadata": {},
   "outputs": [],
   "source": [
    "data.shape"
   ]
  },
  {
   "cell_type": "code",
   "execution_count": null,
   "id": "d1c90b0d",
   "metadata": {},
   "outputs": [],
   "source": [
    "print(\"Any Missing value?\", data.isnull().values.any())"
   ]
  },
  {
   "cell_type": "code",
   "execution_count": null,
   "id": "cefcd231",
   "metadata": {},
   "outputs": [],
   "source": [
    "data.isnull().sum()"
   ]
  },
  {
   "cell_type": "code",
   "execution_count": null,
   "id": "c18ceead",
   "metadata": {},
   "outputs": [],
   "source": [
    "\n",
    "\n",
    "def plot_nas(data: pd.DataFrame):\n",
    "    if data.isnull().sum().sum() != 0:\n",
    "        na_data = (data.isnull().sum() / len(data)) * 100      \n",
    "        na_data = na_data.drop(na_data[na_data == 0].index).sort_values(ascending=False)\n",
    "        missing_data = pd.DataFrame({'Missing/isnull Ratio %' :na_data})\n",
    "        missing_data.plot(kind = \"barh\")\n",
    "        plt.show()\n",
    "    else:\n",
    "        print('No NAs found')\n",
    "plot_nas(data)\n",
    "\n"
   ]
  },
  {
   "cell_type": "code",
   "execution_count": null,
   "id": "7fc75da1",
   "metadata": {},
   "outputs": [],
   "source": [
    "missing_percentage = data.isnull().sum() * 100 / len(data)\n",
    "\n",
    "missing_percentage"
   ]
  },
  {
   "cell_type": "code",
   "execution_count": null,
   "id": "ce9a933c",
   "metadata": {},
   "outputs": [],
   "source": [
    "\n",
    "\n",
    "Letters = ('no_fax', 'no_telepon', 'badan_usaha', 'penanggung_jawab + kapasitas')\n",
    "miss_perc = (48.850139, 37.427344, 7.6322044, 0.277989)\n",
    "colors = ('#FFF5EE', '#FFD51F', '#FFD51F', '#E67F0D', '#D53032')\n",
    "\n",
    "plt.pie(\n",
    "    miss_perc,\n",
    "    labels=Letters,\n",
    "    autopct='%1.1f%%',\n",
    "    colors=colors,\n",
    "    shadow=True) \n",
    "\n",
    "\n",
    "\n",
    "plt.show()\n",
    "\n"
   ]
  },
  {
   "cell_type": "code",
   "execution_count": null,
   "id": "9cee4f12",
   "metadata": {},
   "outputs": [],
   "source": [
    "data_drop = data.dropna(axis=0)\n",
    "\n",
    "dup_data = data.duplicated().any()\n",
    "\n",
    "print(\"Are there any duplicated values?\", dup_data)"
   ]
  },
  {
   "cell_type": "code",
   "execution_count": null,
   "id": "238f0bde",
   "metadata": {},
   "outputs": [],
   "source": [
    "\n",
    "\n",
    "drop_dup_data = data.drop_duplicates()\n",
    "\n"
   ]
  },
  {
   "cell_type": "code",
   "execution_count": null,
   "id": "2cdd0056",
   "metadata": {},
   "outputs": [],
   "source": [
    "data.describe(include='all')"
   ]
  },
  {
   "cell_type": "code",
   "execution_count": null,
   "id": "b7f58bd5",
   "metadata": {},
   "outputs": [],
   "source": [
    "name_usaha_count = data.groupby('nama_usaha').size().sort_values(ascending=False)\n",
    "name_usaha_count.head(25)"
   ]
  },
  {
   "cell_type": "code",
   "execution_count": null,
   "id": "96e8e8c5",
   "metadata": {},
   "outputs": [],
   "source": [
    "business_name = ('Kentucky Fried Chicken', 'Pizza Hut', 'Solaria', 'A & W Family', 'Hokben', 'Starbucks Coffee',\n",
    "             'Rice Bowl', 'Mc Donalds', 'Starbucks', 'Burger King')\n",
    "counts_1 = (105, 76, 73, 62, 53, 45, \n",
    "               39, 37, 35, 34)\n",
    "\n",
    "x_coords = np.arange(len(business_name))\n",
    "\n",
    "\n",
    "plt.bar(x_coords, counts_1, tick_label=business_name) \n",
    "plt.xticks(rotation=90) #rotates text for x-axis labels \n",
    "plt.ylabel('')\n",
    "plt.title('Top 10 Culinary Business in Jakarta')\n",
    "plt.show()"
   ]
  },
  {
   "cell_type": "code",
   "execution_count": null,
   "id": "85bd0e43",
   "metadata": {},
   "outputs": [],
   "source": [
    "name_usaha_count.shape"
   ]
  },
  {
   "cell_type": "code",
   "execution_count": null,
   "id": "2ec743c3",
   "metadata": {},
   "outputs": [],
   "source": [
    "address_usaha_count = data.groupby('alamat_usaha').size().sort_values(ascending=False)\n",
    "address_usaha_count.head(25)"
   ]
  },
  {
   "cell_type": "code",
   "execution_count": null,
   "id": "fe909245",
   "metadata": {},
   "outputs": [],
   "source": [
    "address_usaha_count.shape"
   ]
  },
  {
   "cell_type": "code",
   "execution_count": null,
   "id": "0cb40576",
   "metadata": {},
   "outputs": [],
   "source": [
    "\n",
    "\n",
    "director_usaha_count = data.groupby('penanggung_jawab').size().sort_values(ascending=False)\n",
    "director_usaha_count.head(25)\n",
    "\n"
   ]
  },
  {
   "cell_type": "code",
   "execution_count": null,
   "id": "4fc68319",
   "metadata": {},
   "outputs": [],
   "source": [
    "\n",
    "\n",
    "director_usaha_count.shape\n",
    "\n"
   ]
  },
  {
   "cell_type": "code",
   "execution_count": null,
   "id": "b04b67cd",
   "metadata": {},
   "outputs": [],
   "source": [
    "\n",
    "\n",
    "business_director = ('Carolina Susanty', 'Ir. Jusroni', 'Aliuyanto', 'Jusroni', 'Rudy Tanudjaya Saputra', 'Zaina Siman',\n",
    "             'Hendra Arifin', 'Kusnandi Rahardja', 'Sukowati Sosrodjojo', 'Ivonne Hadisurjo')\n",
    "counts_3 = (106, 68, 68, 66, 62, 61, \n",
    "               60, 56, 40, 31)\n",
    "\n",
    "x_coords = np.arange(len(business_director))\n",
    "plt.bar(x_coords, counts_3, tick_label=business_director) \n",
    "plt.xticks(rotation=90) #rotates text for x-axis labels \n",
    "plt.ylabel('')\n",
    "plt.title('Top 10 Culinary Business Director in Jakarta')\n",
    "plt.show()\n",
    "\n"
   ]
  },
  {
   "cell_type": "code",
   "execution_count": null,
   "id": "e6099a08",
   "metadata": {},
   "outputs": [],
   "source": [
    "\n",
    "\n",
    "location_usaha_count = data.groupby('wilayah').size().sort_values(ascending=False)\n",
    "location_usaha_count.head()\n",
    "\n"
   ]
  },
  {
   "cell_type": "code",
   "execution_count": null,
   "id": "9ef0e3d0",
   "metadata": {},
   "outputs": [],
   "source": [
    "\n",
    "\n",
    "location_usaha_count.shape\n",
    "\n"
   ]
  },
  {
   "cell_type": "code",
   "execution_count": null,
   "id": "c66e2953",
   "metadata": {},
   "outputs": [],
   "source": [
    "Jakarta_city_region = ('Jakarta Selatan (South Jakarta)', 'Jakarta Pusat (Capital of Jakarta)', 'Jakarta Utara (North Jakarta)', 'Jakarta Barat (West Jakarta)', 'Jakarta Timur (East Jakarta)')\n",
    "counts_4 = (1570, 921, 705, 542, 219)\n",
    "colors = ['#0000FF' for _ in range(len(Jakarta_city_region))]\n",
    "colors[1] = '#FF0000'\n",
    "\n",
    "x_coords = np.arange(len(Jakarta_city_region))\n",
    "\n",
    "plt.bar(x_coords, counts_4, tick_label=Jakarta_city_region, color=colors) \n",
    "plt.xticks(rotation=90) #rotates text for x-axis labels \n",
    "plt.ylabel('')\n",
    "plt.title('Best Culinary Business Region in Jakarta')\n",
    "plt.show()"
   ]
  },
  {
   "cell_type": "code",
   "execution_count": null,
   "id": "3058b1d3",
   "metadata": {},
   "outputs": [],
   "source": [
    "\n",
    "\n",
    "type_usaha_count = data.groupby('jenis_usaha').size().sort_values(ascending=False)\n",
    "type_usaha_count\n",
    "\n"
   ]
  },
  {
   "cell_type": "code",
   "execution_count": null,
   "id": "c8853aef",
   "metadata": {},
   "outputs": [],
   "source": [
    "\n",
    "\n",
    "type_business = ('Restaurant', 'other')\n",
    "counts_5 = (3957, 0)\n",
    "\n",
    "colors = ['#FFA500' for _ in range(len(type_business))]\n",
    "colors[0] = '#FFA500'\n",
    "\n",
    "\n",
    "x_coords = np.arange(len(type_business))\n",
    "plt.bar(x_coords, counts_5, tick_label=type_business, color=colors) \n",
    "plt.xticks(rotation=90) #rotates text for x-axis labels \n",
    "plt.ylabel('')\n",
    "plt.title('Culinary Business Type')\n",
    "plt.show()\n",
    "\n"
   ]
  },
  {
   "cell_type": "code",
   "execution_count": null,
   "id": "3264ef52",
   "metadata": {},
   "outputs": [],
   "source": [
    "capacity_usaha_count = data.groupby('kapasitas').size().sort_values(ascending=False)\n",
    "capacity_usaha_count.head(30)"
   ]
  },
  {
   "cell_type": "code",
   "execution_count": null,
   "id": "a73326bc",
   "metadata": {},
   "outputs": [],
   "source": []
  },
  {
   "cell_type": "code",
   "execution_count": null,
   "id": "5531a622",
   "metadata": {},
   "outputs": [],
   "source": []
  }
 ],
 "metadata": {
  "kernelspec": {
   "display_name": "Python 3 (ipykernel)",
   "language": "python",
   "name": "python3"
  },
  "language_info": {
   "codemirror_mode": {
    "name": "ipython",
    "version": 3
   },
   "file_extension": ".py",
   "mimetype": "text/x-python",
   "name": "python",
   "nbconvert_exporter": "python",
   "pygments_lexer": "ipython3",
   "version": "3.11.5"
  }
 },
 "nbformat": 4,
 "nbformat_minor": 5
}
